{
 "cells": [
  {
   "cell_type": "code",
   "execution_count": null,
   "id": "730139bb-b0d2-40d6-af91-f567ad8a3fb5",
   "metadata": {},
   "outputs": [],
   "source": []
  }
 ],
 "metadata": {
  "kernelspec": {
   "display_name": "",
   "name": ""
  },
  "language_info": {
   "name": ""
  }
 },
 "nbformat": 4,
 "nbformat_minor": 5
}
